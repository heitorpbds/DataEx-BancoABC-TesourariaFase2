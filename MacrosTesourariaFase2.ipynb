{
 "cells": [
  {
   "cell_type": "markdown",
   "metadata": {},
   "source": [
    "Desenvolvido por: Heitor santos\n",
    "Empresa: Dataex\n",
    "Códificação para tratar as macros do Tesouraria fase 2. Realizando a leitura de arquivos do Google Cloud Storage, tratar as informações e realizar o insert no Google Big Query para seguir com o processo de cargar."
   ]
  },
  {
   "cell_type": "markdown",
   "metadata": {},
   "source": [
    "#Definição dos importes do código."
   ]
  },
  {
   "cell_type": "code",
   "execution_count": 63,
   "metadata": {},
   "outputs": [],
   "source": [
    "import math\n",
    "import pandas as pd\n",
    "from numpy.random import seed\n",
    "from numpy.random import normal\n",
    "from google.cloud import storage, bigquery\n",
    "from google.oauth2 import service_account\n"
   ]
  },
  {
   "cell_type": "code",
   "execution_count": 45,
   "metadata": {},
   "outputs": [],
   "source": [
    "def CALC_D1(FWD1, strike1, Vol1, T21):\n",
    "    D1 = math.log(FWD1 / strike1) + (((math.pow(Vol1, 2)) / 2) * T21) / (Vol1 * math.sqrt(T21))\n",
    "    return D1"
   ]
  },
  {
   "cell_type": "code",
   "execution_count": 46,
   "metadata": {},
   "outputs": [],
   "source": [
    "def CALC_D2(FWD2, strike2, Vol2, T22):\n",
    "    D2 = math.log(FWD2 / strike2) - ((math.pow(Vol2, 2) / 2) * T22) / (Vol2 * math.sqrt(T22))\n",
    "    return  D2"
   ]
  },
  {
   "cell_type": "code",
   "execution_count": 47,
   "metadata": {},
   "outputs": [],
   "source": [
    "def download_blob(bucket_name, source_blob_name, destination_file_name):\n",
    "    \n",
    "    try:\n",
    "        \n",
    "        storage_client = storage.Client.from_service_account_json('D:\\MeusDocumentos\\Clientes\\Dataex\\BancoABC\\dev-terceiros.json')\n",
    "\n",
    "        bucket = storage_client.bucket(bucket_name)    \n",
    "\n",
    "        blob = bucket.blob(source_blob_name)\n",
    "        blob.download_to_filename(str(destination_file_name))\n",
    "\n",
    "\n",
    "        print(\n",
    "            \"Downloaded storage object {} from bucket {} to local file {}.\".format(\n",
    "                source_blob_name, bucket_name, destination_file_name\n",
    "            )\n",
    "        )\n",
    "    except Exception as e:\n",
    "        print(e)"
   ]
  },
  {
   "cell_type": "code",
   "execution_count": 48,
   "metadata": {},
   "outputs": [],
   "source": [
    "def DERIVATIVOS_OPCAO_IBOV(TIPO, FWD, strike, Vol, PRE, T):\n",
    "    \n",
    "    if T > 1:\n",
    "        \n",
    "        if TIPO == \"0\":\n",
    "\n",
    "            DOI = 0\n",
    "            \n",
    "        else:\n",
    "            \n",
    "            T2  = T/252\n",
    "            \n",
    "            r = math.log(1+PRE)\n",
    "            \n",
    "            d1 = CALC_D1(FWD, strike, Vol, T)\n",
    "    \n",
    "            d2 = CALC_D2(FWD, strike, Vol, T)\n",
    "            \n",
    "            if TIPO == \"CALL\":\n",
    "                DOI = math.exp(-r * T2) * (FWD * normal(d1) - strike * normal(d2))\n",
    "            elif TIPO == \"PUT\":\n",
    "                DOI = math.exp(-r * T2) * (FWD * normal(-d1) - strike * normal(-d2))\n",
    "            else:\n",
    "                DOI = \"ERRO\"\n",
    "        \n",
    "    else:\n",
    "        \n",
    "       \tDOI = abs(FWD - strike)\n",
    "        \n",
    "        if (TIPO == \"CALL\" and (FWD - strike) < 0): DOI = 0\n",
    "        \n",
    "        if (TIPO == \"PUT\" and (strike - FWD) < 0): DOI = 0\n",
    "        \n",
    "        if (TIPO == \"0\"): DOI = 0\n",
    "        \n",
    "    return DOI  "
   ]
  },
  {
   "cell_type": "code",
   "execution_count": 49,
   "metadata": {},
   "outputs": [],
   "source": [
    "def DERIVATIVOS_VOL_OPCAO_IBOV(FWD, strike, Vol, PRE, T, TABELA_VOL):\n",
    "     \n",
    "    if strike != 0 and T > 1:\n",
    "            \n",
    "        T2 = T / 252\n",
    "        r = math.log(1 + PRE)\n",
    "            \n",
    "        VOL2 = Vol + 0.00002\n",
    "        \n",
    "        i = 0\n",
    "        while abs(VOL2 - Vol) > 0.00001:\n",
    "\n",
    "            Vol = VOL2\n",
    "            \n",
    "            d1 = CALC_D1(FWD, strike, Vol, T)\n",
    "            d2 = CALC_D2(FWD, strike, Vol, T)\n",
    "            \n",
    "            delta = math.exp(-r * T2) * normal(d1)\n",
    "            \n",
    "            VOL2 = 2 # Application.Run(\"BicubicInterpolation\", TABELA_VOL, delta, T)\n",
    "            \n",
    "            i = i + 1\n",
    "            if i == 1000:\n",
    "                exit\n",
    "            \n",
    "    \n",
    "        return VOL2"
   ]
  },
  {
   "cell_type": "code",
   "execution_count": 50,
   "metadata": {},
   "outputs": [],
   "source": [
    "def DERIVATIVOS_DELTA_OPCAO_IBOV(TIPO, FWD, strike, Vol, PRE, T):\n",
    "    \n",
    "    if T > 1:\n",
    "        if TIPO == 0:\n",
    "            DDOI = 0\n",
    "        \n",
    "        else:\n",
    "            \n",
    "            T2 = T / 252\n",
    "            r = math.log(1 + PRE)\n",
    "            \n",
    "            d1 = CALC_D1(FWD, strike, Vol, T)\n",
    "            d2 = CALC_D2(FWD, strike, Vol, T)\n",
    "        \n",
    "            if TIPO == \"CALL\":\n",
    "                DDOI = math.exp(-r * T2) * normal(d1)\n",
    "            elif TIPO == \"PUT\":\n",
    "                DDOI = math.exp(-r * T2) * normal(d1) - 1\n",
    "            Else: DDOI = \"ERRO\"\n",
    "\n",
    "    else:\n",
    "        DDOI = 0"
   ]
  },
  {
   "cell_type": "code",
   "execution_count": 51,
   "metadata": {},
   "outputs": [],
   "source": [
    "def CALCULA_CAMPO_VOL_VANILLA(planilha, tema, Call_Put, Data_base_d0, Fixing_Date, Liquidacao_Antecipada_x, Data_Liquidacao, FWD, strike, Vol, PRE, T, TABELA_VOL):\n",
    "    \n",
    "    if (planilha == \"Derivativos IBOV\" and tema == \"Vanilla\"):\n",
    "        if (Call_Put == \"\" or Data_base_d0 >= Fixing_Date or (Liquidacao_Antecipada_x == \"X\" and Data_Liquidacao < Data_base_d0)):\n",
    "            0,\n",
    "            DERIVATIVOS_VOL_OPCAO_IBOV(FWD, strike, Vol, PRE, T, TABELA_VOL)\n",
    "    else:\n",
    "        print(\"Fora da condição do IF\")\n",
    "    "
   ]
  },
  {
   "cell_type": "code",
   "execution_count": 68,
   "metadata": {},
   "outputs": [],
   "source": [
    "def CALCULA_MEDIA_VOL_IND_50_PERC():\n",
    "    \n",
    "    try:\n",
    "        credentials = service_account.Credentials.from_service_account_file('D:\\MeusDocumentos\\Clientes\\Dataex\\BancoABC\\dev-terceiros.json')\n",
    "       \n",
    "        project_id = \"DS_RISCOS_RESULTADOS\"\n",
    "        \n",
    "        client = bigquery.Client(credentials= credentials,project=project_id)\n",
    "\n",
    "        query_select = \"\"\"SELECT PERCENTILE_CONT(Delta_50, 0.5) OVER () AS median FROM `abc-pipeline-dev-terceiros.DS_RISCOS_RESULTADOS.STG_TB_VOL_IND`\"\"\"\n",
    "        query_job = client.query(query_select)  # Make an API request.\n",
    "\n",
    "        print(\"The query data:\")\n",
    "\n",
    "    except Exception as e:\n",
    "        print(e)\n",
    "            \n",
    "    return query_job"
   ]
  },
  {
   "cell_type": "code",
   "execution_count": 53,
   "metadata": {},
   "outputs": [],
   "source": [
    "def TRATAR_ARQUIVO_VANILLA(read_file):\n",
    "\n",
    "    try:\n",
    "        df = pd.read_csv(read_file, encoding='ANSI',  delimiter=';')\n",
    "        df.rename(columns={\"id_src\" : \"id\" , \"Cliente_src\" : \"Cliente\" , \"Notional_src\" : \"Notional\" , \"Call_Put_src\" : \"Call_Put\" , \"Strike_src\" : \"Strike\" , \"Premio_Tesouraria_BRL_src\" : \"Premio_Tesouraria_BRL\" , \"Trade_Date_src\" : \"Trade_Date\" , \"Initial_Date_src\" : \"Initial_Date\" , \"Fixing_Date_src\" : \"Fixing_Date\" , \"Vencimento_src\" :\"Vencimento\" , \"Vencimento_Referencia_src\" : \"Vencimento_Referencia\" , \"Veiculo_Legal_src\" :\"Veiculo_Legal\" , \"Trading_Banking_src\" : \"Trading_Banking\" , \"Livro_src\" : \"Livro\" , \"Estrategia_src\" : \"Estrategia\" , \"Estrategia_Nivel_2_src\" : \"Estrategia_Nivel_2\" , \"Liquidacao_Antecipada_x_src\" : \"Liquidacao_Antecipada_x\" , \"Data_Liquidacao_src\" :\"Data_Liquidacao\" , \"Qtd_Liquid_Vcto_du_src\" : \"Qtd_Liquid_Vcto_du\" , \"Premio_Tesouraria_Liq_curva_src\" : \"Premio_Tesouraria_Liq_curva\" , \"Taxa_Desconto_src\" :\"Taxa_Desconto\" , \"ID_REGISTRO_src\" : \"ID_REGISTRO\", \"Data_proc_src\" : \"Data_Proc\" , \"Data_base_d0_src\" : \"Data_base_d0\" , \"Data_base_d1_src\" : \"Data_base_d1\" , \"Data_base_m1_src\" : \"Data_base_m1\" , \"Dia_util_d0_src\" :\"Dia_util_d0\" , \"Dia_util_d1_src\" : \"Dia_util_d1\" , \"Dia_util_m1_src\" : \"Dia_util_m1\" , \"Data_src\" : \"Data_referencia\" , \"m_trade_date_initial_dc\" : \"m_trade_date_initial_dc\" , \"m_trade_date_initial_du\" : \"m_trade_date_initial_du\" , \"m_trade_date_fixing_dc\" :\"m_trade_date_fixing_dc\" , \"m_trade_date_fixing_du\" : \"m_trade_date_fixing_du\" , \"m_trade_date_vencimento_dc\" : \"m_trade_date_vencimento_dc\" , \"m_trade_date_vencimento_du\" :\"m_trade_date_vencimento_du\" , \"m_data_base_initial_dc\" : \"m_data_base_initial_dc\" , \"m_data_base_initial_du\" : \"m_data_base_initial_du\" , \"m_data_base_fixing_dc\" :\"m_data_base_fixing_dc\" , \"m_data_base_fixing_du\" : \"m_data_base_fixing_du\" , \"m_data_base_vencimento_dc\" : \"m_data_base_vencimento_dc\" , \"m_data_base_vencimento_du\" :\"m_data_base_vencimento_du\" , \"m_taxa_pre_brl_initial_date_perc\" :\"m_taxa_pre_brl_initial_date_perc\" , \"m_taxa_pre_brl_fixing_date_perc\" : \"m_taxa_pre_brl_fixing_date_perc\" , \"m_taxa_pre_brl_vencimento_perc\" :\"m_taxa_pre_brl_vencimento_perc\" , \"m_indice_futuro\" : \"m_indice_futuro\" , \"m_vol_perc\" :\"m_vol_perc\" , \"m_premio_corrigido\" : \"m_premio_corrigido\" , \"m_preco_opcao\" : \"m_preco_opcao\", \"pl_ltd_opcao\" : \"pl_ltd_opcao\" , \"pl_daily\" : \"pl_daily\" , \"pl_month\" : \"pl_month\"}, inplace = True)\n",
    "        df['Trade_Date']= pd.to_datetime(df['Trade_Date'].str.slice(0, 10), format='%m/%d/%Y')\n",
    "        df['Initial_Date']= pd.to_datetime(df['Initial_Date'].str.slice(0, 10), format='%m/%d/%Y')\n",
    "        df['Fixing_Date']= pd.to_datetime(df['Fixing_Date'].str.slice(0, 10), format='%m/%d/%Y')\n",
    "        df['Vencimento']= pd.to_datetime(df['Vencimento'].str.slice(0, 10), format='%m/%d/%Y')\n",
    "        #df['Data_Liquidacao']= pd.to_datetime(file['Data_Liquidacao'].str.slice(0, 10), format='%m/%d/%Y')\n",
    "        \n",
    "        MEDIA_VOL_IND = CALCULA_MEDIA_VOL_IND_50_PERC()\n",
    "        \n",
    "        for index in range(len(df)) :\n",
    "            CALCULA_CAMPO_VOL_VANILLA(\"Derivativos IBOV\", \"Vanilla\", df[\"Call_Put\"][index], df[\"Data_base_d0\"][index], df[\"Fixing_Date\"][index], df[\"Liquidacao_Antecipada_x\"][index], df[\"Data_Liquidacao\"][index], df[\"m_indice_futuro\"][index], df[\"Strike\"][index],\"media\", df[\"m_taxa_pre_brl_vencimento_perc\"][index], df[\"m_data_base_vencimento_du\"][index],  )\n",
    "\n",
    "\n",
    "\n",
    "    except Exception as e:\n",
    "        \n",
    "        print(e)"
   ]
  },
  {
   "cell_type": "markdown",
   "metadata": {},
   "source": [
    "Definição do nome do Bucket a ser utilizado para conectar no GCP"
   ]
  },
  {
   "cell_type": "code",
   "execution_count": 54,
   "metadata": {},
   "outputs": [],
   "source": [
    "v_bucket_name = \"abc-pipeline-dev-terceiros_cloudbuild\""
   ]
  },
  {
   "cell_type": "markdown",
   "metadata": {},
   "source": [
    "Definição do nome do arquivo com o caminho e sem o bucket a ser buscado para conectar no GCP"
   ]
  },
  {
   "cell_type": "code",
   "execution_count": 55,
   "metadata": {},
   "outputs": [],
   "source": [
    "v_source_blob_name = \"STAGE_AREA/IBOVOPT_VANILLA.CSV\""
   ]
  },
  {
   "cell_type": "markdown",
   "metadata": {},
   "source": [
    "Definição do nome do caminho a ser salvo o arquivo do GCP com o nome a ser utilizado"
   ]
  },
  {
   "cell_type": "code",
   "execution_count": 56,
   "metadata": {},
   "outputs": [],
   "source": [
    "v_destination_file_name = \"D:\\MeusDocumentos\\Clientes\\Dataex\\BancoABC\\Tesouraria Fase 02\\DEV - Macros\\python\\TesourariaFase2\\IBOVOPT_VANILLA.CSV\""
   ]
  },
  {
   "cell_type": "code",
   "execution_count": 57,
   "metadata": {},
   "outputs": [
    {
     "name": "stdout",
     "output_type": "stream",
     "text": [
      "Downloaded storage object STAGE_AREA/IBOVOPT_VANILLA.CSV from bucket abc-pipeline-dev-terceiros_cloudbuild to local file D:\\MeusDocumentos\\Clientes\\Dataex\\BancoABC\\Tesouraria Fase 02\\DEV - Macros\\python\\TesourariaFase2\\IBOVOPT_VANILLA.CSV.\n"
     ]
    }
   ],
   "source": [
    "download_blob(v_bucket_name, v_source_blob_name, v_destination_file_name)"
   ]
  },
  {
   "cell_type": "code",
   "execution_count": 58,
   "metadata": {},
   "outputs": [
    {
     "name": "stdout",
     "output_type": "stream",
     "text": [
      "local variable 'bigquery' referenced before assignment\n",
      "local variable 'query_job' referenced before assignment\n"
     ]
    }
   ],
   "source": [
    "TRATAR_ARQUIVO_VANILLA(v_destination_file_name)"
   ]
  },
  {
   "cell_type": "code",
   "execution_count": 69,
   "metadata": {},
   "outputs": [
    {
     "name": "stdout",
     "output_type": "stream",
     "text": [
      "400 POST https://bigquery.googleapis.com/bigquery/v2/projects/DS_RISCOS_RESULTADOS/jobs?prettyPrint=false: Invalid project ID 'DS_RISCOS_RESULTADOS'. Project IDs must contain 6-63 lowercase letters, digits, or dashes. Some project IDs also include domain name separated by a colon. IDs must start with a letter and may not end with a dash.\n",
      "\n",
      "(job ID: bf6395ca-544c-44ca-ab22-59c5c87f11a1)\n",
      "\n",
      "                                                         -----Query Job SQL Follows-----                                                          \n",
      "\n",
      "    |    .    |    .    |    .    |    .    |    .    |    .    |    .    |    .    |    .    |    .    |    .    |    .    |    .    |    .    |\n",
      "   1:\n",
      "   2:                SELECT PERCENTILE_CONT(Delta_50, 0.5) OVER () AS median FROM `abc-pipeline-dev-terceiros.DS_RISCOS_RESULTADOS.STG_TB_VOL_IND`\n",
      "   3:        \n",
      "    |    .    |    .    |    .    |    .    |    .    |    .    |    .    |    .    |    .    |    .    |    .    |    .    |    .    |    .    |\n"
     ]
    },
    {
     "ename": "UnboundLocalError",
     "evalue": "local variable 'query_job' referenced before assignment",
     "output_type": "error",
     "traceback": [
      "\u001b[1;31m---------------------------------------------------------------------------\u001b[0m",
      "\u001b[1;31mUnboundLocalError\u001b[0m                         Traceback (most recent call last)",
      "\u001b[1;32m~\\AppData\\Local\\Temp/ipykernel_15024/1860021341.py\u001b[0m in \u001b[0;36m<module>\u001b[1;34m\u001b[0m\n\u001b[1;32m----> 1\u001b[1;33m \u001b[0mCALCULA_MEDIA_VOL_IND_50_PERC\u001b[0m\u001b[1;33m(\u001b[0m\u001b[1;33m)\u001b[0m\u001b[1;33m\u001b[0m\u001b[1;33m\u001b[0m\u001b[0m\n\u001b[0m",
      "\u001b[1;32m~\\AppData\\Local\\Temp/ipykernel_15024/3603049983.py\u001b[0m in \u001b[0;36mCALCULA_MEDIA_VOL_IND_50_PERC\u001b[1;34m()\u001b[0m\n\u001b[0;32m     18\u001b[0m         \u001b[0mprint\u001b[0m\u001b[1;33m(\u001b[0m\u001b[0me\u001b[0m\u001b[1;33m)\u001b[0m\u001b[1;33m\u001b[0m\u001b[1;33m\u001b[0m\u001b[0m\n\u001b[0;32m     19\u001b[0m \u001b[1;33m\u001b[0m\u001b[0m\n\u001b[1;32m---> 20\u001b[1;33m     \u001b[1;32mreturn\u001b[0m \u001b[0mquery_job\u001b[0m\u001b[1;33m\u001b[0m\u001b[1;33m\u001b[0m\u001b[0m\n\u001b[0m",
      "\u001b[1;31mUnboundLocalError\u001b[0m: local variable 'query_job' referenced before assignment"
     ]
    }
   ],
   "source": [
    "CALCULA_MEDIA_VOL_IND_50_PERC()"
   ]
  }
 ],
 "metadata": {
  "interpreter": {
   "hash": "f8c84769f387f5e04656f52f938f065f6e68dfe8e59d80d64186a3925e10c6e1"
  },
  "kernelspec": {
   "display_name": "Python 3.9.7 64-bit ('base': conda)",
   "language": "python",
   "name": "python3"
  },
  "language_info": {
   "codemirror_mode": {
    "name": "ipython",
    "version": 3
   },
   "file_extension": ".py",
   "mimetype": "text/x-python",
   "name": "python",
   "nbconvert_exporter": "python",
   "pygments_lexer": "ipython3",
   "version": "3.9.7"
  },
  "orig_nbformat": 4
 },
 "nbformat": 4,
 "nbformat_minor": 2
}
