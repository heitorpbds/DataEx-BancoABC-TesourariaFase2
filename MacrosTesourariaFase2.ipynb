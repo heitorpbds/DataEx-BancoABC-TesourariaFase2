{
 "cells": [
  {
   "cell_type": "markdown",
   "metadata": {},
   "source": [
    "Desenvolvido por: Heitor santos\n",
    "Empresa: Dataex\n",
    "Códificação para tratar as macros do Tesouraria fase 2. Realizando a leitura de arquivos do Google Cloud Storage, tratar as informações e realizar o insert no Google Big Query para seguir com o processo de cargar."
   ]
  },
  {
   "cell_type": "markdown",
   "metadata": {},
   "source": [
    "#Definição dos importes do código."
   ]
  },
  {
   "cell_type": "code",
   "execution_count": 23,
   "metadata": {},
   "outputs": [],
   "source": [
    "import math\n",
    "import pandas as pd\n",
    "from numpy.random import normal\n",
    "from google.cloud import bigquery,storage\n",
    "\n",
    "from google.oauth2 import service_account"
   ]
  },
  {
   "cell_type": "markdown",
   "metadata": {},
   "source": [
    "Variaveis pré definidas"
   ]
  },
  {
   "cell_type": "code",
   "execution_count": 24,
   "metadata": {},
   "outputs": [],
   "source": [
    "key_path = \"D:\\MeusDocumentos\\Clientes\\Dataex\\BancoABC\\dev-terceiros.json\"\n",
    "\n",
    "query = \"\"\"\n",
    "    SELECT Data_ref, Data, Delta_50 FROM `abc-pipeline-dev-terceiros.DS_RISCOS_RESULTADOS.STG_TB_VOL_IND` LIMIT 10 \n",
    "    \"\"\"\n",
    "    \n",
    "v_bucket_name = \"abc-pipeline-dev-terceiros_cloudbuild\" #Definição do nome do Bucket a ser utilizado para conectar no GCP\n",
    "\n",
    "v_source_blob_name = \"STAGE_AREA/IBOVOPT_VANILLA.CSV\" #Definição do nome do arquivo com o caminho e sem o bucket a ser buscado para conectar no GCP\n",
    "\n",
    "v_destination_file_name = \"D:\\MeusDocumentos\\Clientes\\Dataex\\BancoABC\\Tesouraria Fase 02\\DEV - Macros\\python\\TesourariaFase2\\IBOVOPT_VANILLA.CSV\" #Definição do nome do caminho a ser salvo o arquivo do GCP com o nome a ser utilizado"
   ]
  },
  {
   "cell_type": "markdown",
   "metadata": {},
   "source": [
    "Realiza download do arquivo no Cloud Storage"
   ]
  },
  {
   "cell_type": "code",
   "execution_count": null,
   "metadata": {},
   "outputs": [],
   "source": [
    "def download_file_cs(bucket_name, source_blob_name, destination_file_name):\n",
    "    \n",
    "    try:\n",
    "        \n",
    "        storage_client = storage.Client.from_service_account_json(key_path)\n",
    "\n",
    "        bucket = storage_client.bucket(bucket_name)    \n",
    "\n",
    "        blob = bucket.blob(source_blob_name)\n",
    "        blob.download_to_filename(str(destination_file_name))\n",
    "\n",
    "\n",
    "        print(\n",
    "            \"Downloaded storage object {} from bucket {} to local file {}.\".format(\n",
    "                source_blob_name, bucket_name, destination_file_name\n",
    "            )\n",
    "        )\n",
    "    except Exception as e:\n",
    "        print(e)"
   ]
  },
  {
   "cell_type": "markdown",
   "metadata": {},
   "source": [
    "Abre conexão com o BQ e cria o dataframe com a consulta com consulta de SELECT"
   ]
  },
  {
   "cell_type": "code",
   "execution_count": 30,
   "metadata": {},
   "outputs": [],
   "source": [
    "def open_cnx_bq():\n",
    "    try:\n",
    "        credentials = service_account.Credentials.from_service_account_file(\n",
    "            key_path,\n",
    "            scopes=[\"https://www.googleapis.com/auth/cloud-platform\"],\n",
    "        )\n",
    "\n",
    "        client = bigquery.Client(\n",
    "            credentials=credentials,\n",
    "            project=credentials.project_id\n",
    "        )\n",
    "        \n",
    "        rows = (\n",
    "            client.query(query)\n",
    "            .result()\n",
    "            .to_dataframe()\n",
    "        )\n",
    "\n",
    "        df = pd.DataFrame(rows)\n",
    "        \n",
    "        client.close()\n",
    "        \n",
    "        return df\n",
    "    \n",
    "    except Exception as e:\n",
    "        print(e)\n"
   ]
  },
  {
   "cell_type": "code",
   "execution_count": 31,
   "metadata": {},
   "outputs": [],
   "source": [
    "def CALC_D1(FWD1, strike1, Vol1, T21):\n",
    "    D1 = math.log(FWD1 / strike1) + (((math.pow(Vol1, 2)) / 2) * T21) / (Vol1 * math.sqrt(T21))\n",
    "    return D1"
   ]
  },
  {
   "cell_type": "code",
   "execution_count": 32,
   "metadata": {},
   "outputs": [],
   "source": [
    "def CALC_D2(FWD2, strike2, Vol2, T22):\n",
    "    D2 = math.log(FWD2 / strike2) - ((math.pow(Vol2, 2) / 2) * T22) / (Vol2 * math.sqrt(T22))\n",
    "    return  D2"
   ]
  },
  {
   "cell_type": "code",
   "execution_count": null,
   "metadata": {},
   "outputs": [],
   "source": [
    "def DERIVATIVOS_OPCAO_IBOV(TIPO, FWD, strike, Vol, PRE, T):\n",
    "    \n",
    "    if T > 1:\n",
    "        \n",
    "        if TIPO == \"0\":\n",
    "\n",
    "            DOI = 0\n",
    "            \n",
    "        else:\n",
    "            \n",
    "            T2  = T/252\n",
    "            \n",
    "            r = math.log(1+PRE)\n",
    "            \n",
    "            d1 = CALC_D1(FWD, strike, Vol, T)\n",
    "    \n",
    "            d2 = CALC_D2(FWD, strike, Vol, T)\n",
    "            \n",
    "            if TIPO == \"CALL\":\n",
    "                DOI = math.exp(-r * T2) * (FWD * normal(d1) - strike * normal(d2))\n",
    "            elif TIPO == \"PUT\":\n",
    "                DOI = math.exp(-r * T2) * (FWD * normal(-d1) - strike * normal(-d2))\n",
    "            else:\n",
    "                DOI = \"ERRO\"\n",
    "        \n",
    "    else:\n",
    "        \n",
    "       \tDOI = abs(FWD - strike)\n",
    "        \n",
    "        if (TIPO == \"CALL\" and (FWD - strike) < 0): DOI = 0\n",
    "\n",
    "        if (TIPO == \"PUT\" and (strike - FWD) < 0): DOI = 0\n",
    "\n",
    "        if (TIPO == \"0\"): DOI = 0\n",
    "        \n",
    "    return DOI  "
   ]
  },
  {
   "cell_type": "code",
   "execution_count": 51,
   "metadata": {},
   "outputs": [
    {
     "name": "stdout",
     "output_type": "stream",
     "text": [
      "True\n"
     ]
    }
   ],
   "source": [
    "def FINDINDEXBELOW(A , Value):\n",
    "  \n",
    "  if isinstance(A, list):\n",
    "    \n",
    "\n",
    "    return 2\n",
    "\n",
    "\n",
    "  If TypeName(A) = \"Range\" Then\n",
    "    ' Are the items in reverse order?\n",
    "    If A.Cells(2) > A.Cells(3) Then\n",
    "      For i = 2 To A.Cells.Count\n",
    "        ' Is this array element less than or equal to Value?\n",
    "        If A.Cells(i) >= Value Then\n",
    "          ' This is a valid value.\n",
    "          FindIndexBelow = i\n",
    "        Else\n",
    "          ' Stop looking.\n",
    "          Exit For\n",
    "        End If\n",
    "      Next\n",
    "    Else\n",
    "      For i = 2 To A.Cells.Count\n",
    "        ' Is this array element less than or equal to Value?\n",
    "        If A.Cells(i) <= Value Then\n",
    "          ' This is a valid value.\n",
    "          FindIndexBelow = i\n",
    "        Else\n",
    "          ' Stop looking.\n",
    "          Exit For\n",
    "        End If\n",
    "      Next\n",
    "    End If\n",
    "  ' Is the type an array?\n",
    "  ElseIf (TypeName(A) = \"Double()\") Or (TypeName(A) = \"Single()\") Or (TypeName(A) = \"Long()\") Or (TypeName(A) = \"Short()\") Then\n",
    "    ' Are the items in reverse order?\n",
    "    If A(LBound(A) + 1) > A(LBound(A) + 2) Then\n",
    "      For i = LBound(A) + 1 To UBound(A)\n",
    "        ' Is this array element greater than or equal to Value?\n",
    "        If A(i) >= Value Then\n",
    "          ' This is a valid value.\n",
    "          FindIndexBelow = i\n",
    "        Else\n",
    "          ' Stop looking.\n",
    "          Exit For\n",
    "        End If\n",
    "      Next\n",
    "    Else\n",
    "      For i = LBound(A) + 1 To UBound(A)\n",
    "        ' Is this array element less than or equal to Value?\n",
    "        If A(i) <= Value Then\n",
    "          ' This is a valid value.\n",
    "          FindIndexBelow = i\n",
    "        Else\n",
    "          ' Stop looking.\n",
    "          Exit For\n",
    "        End If\n",
    "      Next\n",
    "    End If\n",
    "  ' We don't know what the argument is!\n",
    "  Else\n"
   ]
  },
  {
   "cell_type": "code",
   "execution_count": null,
   "metadata": {},
   "outputs": [
    {
     "name": "stdout",
     "output_type": "stream",
     "text": [
      "2\n"
     ]
    }
   ],
   "source": [
    "def BICUBICINTERPOLATION(TABELA_VOL, delta, T):\n",
    "    \n",
    "    return 2\n",
    "    \n",
    "print(BICUBICINTERPOLATION())"
   ]
  },
  {
   "cell_type": "code",
   "execution_count": null,
   "metadata": {},
   "outputs": [],
   "source": [
    "def DERIVATIVOS_VOL_OPCAO_IBOV(TIPO, FWD, strike, Vol, PRE, T, TABELA_VOL):\n",
    "     \n",
    "    if strike != 0 and T > 1:\n",
    "            \n",
    "        T2 = T / 252\n",
    "        r = math.log(1 + PRE)\n",
    "            \n",
    "        VOL2 = Vol + 0.00002\n",
    "        \n",
    "        i = 0\n",
    "        while abs(VOL2 - Vol) > 0.00001:\n",
    "\n",
    "            Vol = VOL2\n",
    "            \n",
    "            d1 = CALC_D1(FWD, strike, Vol, T)\n",
    "            d2 = CALC_D2(FWD, strike, Vol, T)\n",
    "            \n",
    "            delta = math.exp(-r * T2) * normal(d1)\n",
    "            \n",
    "            VOL2 = BICUBICINTERPOLATION()\n",
    "            \n",
    "            i = i + 1\n",
    "            if i == 1000:\n",
    "                exit\n",
    "            \n",
    "    \n",
    "        return VOL2"
   ]
  },
  {
   "cell_type": "code",
   "execution_count": null,
   "metadata": {},
   "outputs": [],
   "source": [
    "def DERIVATIVOS_DELTA_OPCAO_IBOV(TIPO, FWD, strike, Vol, PRE, T):\n",
    "    \n",
    "    if T > 1:\n",
    "        if TIPO == 0:\n",
    "            DDOI = 0\n",
    "        \n",
    "        else:\n",
    "            \n",
    "            T2 = T / 252\n",
    "            r = math.log(1 + PRE)\n",
    "            \n",
    "            d1 = CALC_D1(FWD, strike, Vol, T)\n",
    "            d2 = CALC_D2(FWD, strike, Vol, T)\n",
    "        \n",
    "            if TIPO == \"CALL\":\n",
    "                DDOI = math.exp(-r * T2) * normal(d1)\n",
    "            elif TIPO == \"PUT\":\n",
    "                DDOI = math.exp(-r * T2) * normal(d1) - 1\n",
    "            Else: DDOI = \"ERRO\"\n",
    "\n",
    "    else:\n",
    "        DDOI = 0"
   ]
  },
  {
   "cell_type": "code",
   "execution_count": null,
   "metadata": {},
   "outputs": [],
   "source": [
    "def TRATAR_ARQUIVO_VANILLA(read_file):\n",
    "\n",
    "    try:\n",
    "        df = pd.read_csv(read_file, encoding='ANSI',  delimiter=';')\n",
    "        df.rename(columns={\"id_src\" : \"id\" , \"Cliente_src\" : \"Cliente\" , \"Notional_src\" : \"Notional\" , \"Call_Put_src\" : \"Call_Put\" , \"Strike_src\" : \"Strike\" , \"Premio_Tesouraria_BRL_src\" : \"Premio_Tesouraria_BRL\" , \"Trade_Date_src\" : \"Trade_Date\" , \"Initial_Date_src\" : \"Initial_Date\" , \"Fixing_Date_src\" : \"Fixing_Date\" , \"Vencimento_src\" :\"Vencimento\" , \"Vencimento_Referencia_src\" : \"Vencimento_Referencia\" , \"Veiculo_Legal_src\" :\"Veiculo_Legal\" , \"Trading_Banking_src\" : \"Trading_Banking\" , \"Livro_src\" : \"Livro\" , \"Estrategia_src\" : \"Estrategia\" , \"Estrategia_Nivel_2_src\" : \"Estrategia_Nivel_2\" , \"Liquidacao_Antecipada_x_src\" : \"Liquidacao_Antecipada_x\" , \"Data_Liquidacao_src\" :\"Data_Liquidacao\" , \"Qtd_Liquid_Vcto_du_src\" : \"Qtd_Liquid_Vcto_du\" , \"Premio_Tesouraria_Liq_curva_src\" : \"Premio_Tesouraria_Liq_curva\" , \"Taxa_Desconto_src\" :\"Taxa_Desconto\" , \"ID_REGISTRO_src\" : \"ID_REGISTRO\", \"Data_proc_src\" : \"Data_Proc\" , \"Data_base_d0_src\" : \"Data_base_d0\" , \"Data_base_d1_src\" : \"Data_base_d1\" , \"Data_base_m1_src\" : \"Data_base_m1\" , \"Dia_util_d0_src\" :\"Dia_util_d0\" , \"Dia_util_d1_src\" : \"Dia_util_d1\" , \"Dia_util_m1_src\" : \"Dia_util_m1\" , \"Data_src\" : \"Data_referencia\" , \"m_trade_date_initial_dc\" : \"m_trade_date_initial_dc\" , \"m_trade_date_initial_du\" : \"m_trade_date_initial_du\" , \"m_trade_date_fixing_dc\" :\"m_trade_date_fixing_dc\" , \"m_trade_date_fixing_du\" : \"m_trade_date_fixing_du\" , \"m_trade_date_vencimento_dc\" : \"m_trade_date_vencimento_dc\" , \"m_trade_date_vencimento_du\" :\"m_trade_date_vencimento_du\" , \"m_data_base_initial_dc\" : \"m_data_base_initial_dc\" , \"m_data_base_initial_du\" : \"m_data_base_initial_du\" , \"m_data_base_fixing_dc\" :\"m_data_base_fixing_dc\" , \"m_data_base_fixing_du\" : \"m_data_base_fixing_du\" , \"m_data_base_vencimento_dc\" : \"m_data_base_vencimento_dc\" , \"m_data_base_vencimento_du\" :\"m_data_base_vencimento_du\" , \"m_taxa_pre_brl_initial_date_perc\" :\"m_taxa_pre_brl_initial_date_perc\" , \"m_taxa_pre_brl_fixing_date_perc\" : \"m_taxa_pre_brl_fixing_date_perc\" , \"m_taxa_pre_brl_vencimento_perc\" :\"m_taxa_pre_brl_vencimento_perc\" , \"m_indice_futuro\" : \"m_indice_futuro\" , \"m_vol_perc\" :\"m_vol_perc\" , \"m_premio_corrigido\" : \"m_premio_corrigido\" , \"m_preco_opcao\" : \"m_preco_opcao\", \"pl_ltd_opcao\" : \"pl_ltd_opcao\" , \"pl_daily\" : \"pl_daily\" , \"pl_month\" : \"pl_month\"}, inplace = True)\n",
    "        df['Trade_Date']= pd.to_datetime(df['Trade_Date'].str.slice(0, 10), format='%m/%d/%Y')\n",
    "        df['Initial_Date']= pd.to_datetime(df['Initial_Date'].str.slice(0, 10), format='%m/%d/%Y')\n",
    "        df['Fixing_Date']= pd.to_datetime(df['Fixing_Date'].str.slice(0, 10), format='%m/%d/%Y')\n",
    "        df['Vencimento']= pd.to_datetime(df['Vencimento'].str.slice(0, 10), format='%m/%d/%Y')\n",
    "        #df['Data_Liquidacao']= pd.to_datetime(file['Data_Liquidacao'].str.slice(0, 10), format='%m/%d/%Y')\n",
    "        \n",
    "        \n",
    "        for i in range(len(df)) :\n",
    "\n",
    "            if ( df[\"Trade_Date\"][i] <  df[\"Vencimento\"][i]) :\n",
    "                print(\"verdadeiro\")\n",
    "            else:\n",
    "                print(\"falso\")\n",
    "\n",
    "        #df.info()\n",
    "\n",
    "\n",
    "    except Exception as e:\n",
    "        \n",
    "        print(e)"
   ]
  },
  {
   "cell_type": "code",
   "execution_count": null,
   "metadata": {},
   "outputs": [
    {
     "name": "stdout",
     "output_type": "stream",
     "text": [
      "verdadeiro\n",
      "verdadeiro\n"
     ]
    }
   ],
   "source": [
    "TRATAR_ARQUIVO_VANILLA(v_destination_file_name)"
   ]
  }
 ],
 "metadata": {
  "interpreter": {
   "hash": "f8c84769f387f5e04656f52f938f065f6e68dfe8e59d80d64186a3925e10c6e1"
  },
  "kernelspec": {
   "display_name": "Python 3.9.7 64-bit ('base': conda)",
   "language": "python",
   "name": "python3"
  },
  "language_info": {
   "codemirror_mode": {
    "name": "ipython",
    "version": 3
   },
   "file_extension": ".py",
   "mimetype": "text/x-python",
   "name": "python",
   "nbconvert_exporter": "python",
   "pygments_lexer": "ipython3",
   "version": "3.6.13"
  },
  "orig_nbformat": 4
 },
 "nbformat": 4,
 "nbformat_minor": 2
}
