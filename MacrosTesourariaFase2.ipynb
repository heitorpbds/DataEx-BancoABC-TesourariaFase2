{
 "cells": [
  {
   "cell_type": "markdown",
   "metadata": {},
   "source": [
    "Desenvolvido por: Heitor santos\n",
    "Empresa: Dataex\n",
    "Códificação para tratar as macros do Tesouraria fase 2. Realizando a leitura de arquivos do Google Cloud Storage, tratar as informações e realizar o insert no Google Big Query para seguir com o processo de cargar."
   ]
  },
  {
   "cell_type": "markdown",
   "metadata": {},
   "source": [
    "#Definição dos importes do código."
   ]
  },
  {
   "cell_type": "code",
   "execution_count": 25,
   "metadata": {},
   "outputs": [],
   "source": [
    "import math\n",
    "import pandas as pd\n",
    "#import scipy as interpolate\n",
    "import numpy as np\n",
    "import scipy.stats\n",
    "\n",
    "from datetime import datetime\n",
    "from scipy.stats import norm\n",
    "from scipy import interpolate\n",
    "from numpy.random import normal\n",
    "from google.cloud import bigquery,storage\n",
    "from google.oauth2 import service_account\n"
   ]
  },
  {
   "cell_type": "markdown",
   "metadata": {},
   "source": [
    "Variaveis pré definidas"
   ]
  },
  {
   "cell_type": "code",
   "execution_count": 2,
   "metadata": {},
   "outputs": [],
   "source": [
    "\n",
    "# Caminho do arquivo chave para o GCP\n",
    "key_path = \"D:\\MeusDocumentos\\Clientes\\Dataex\\BancoABC\\dev-terceiros.json\" \n",
    "\n",
    "# Query de curvas VOL_IND\n",
    "v_QUERY_STG_TB_VOL_IND = \"\"\"\n",
    "    SELECT Data_ref, Data_proc, Data, Delta, Delta_1, Delta_10, Delta_25, Delta_37, Delta_50, Delta_63, Delta_75, Delta_90, Delta_99 FROM `abc-pipeline-dev-terceiros.DS_RISCOS_RESULTADOS.STG_TB_VOL_IND` LIMIT 10 \n",
    "    \"\"\"\n",
    "\n",
    "# Definição do nome do Bucket a ser utilizado para conectar no GCP    \n",
    "v_bucket_name = \"abc-pipeline-dev-terceiros_cloudbuild\" \n",
    "\n",
    "# Definição do nome do arquivo com o caminho e sem o bucket a ser buscado para conectar no GCP\n",
    "v_source_file_ic = \"Arquivos/TEMP\"  \n",
    "\n",
    "# Definição do nome do arquivo que será realizado o download.\n",
    "v_source_file_name = \"/IBOVOPT_VANILLA_TEMP.CSV\"\n",
    "\n",
    "# Definição do caminho nome do arquivo que será realizado o download.\n",
    "v_target_file_ic = \"D:\\MeusDocumentos\\Clientes\\Dataex\\BancoABC\\Tesouraria Fase 02\\DEV - Macros\\python\\TesourariaFase2\"\n",
    "\n",
    "\n",
    "# Definição do nome do arquivo que será gravado no destino.\n",
    "v_target_file_name = \"\\IBOVOPT_VANILLA_TEMP.CSV\"\n",
    "\n",
    "# Definição do nome do arquivo que será gravado realizando o upload no Cloud Storage.\n",
    "v_upload_file_name = \"/IBOVOPT_VANILLA_UPLOAD.CSV\""
   ]
  },
  {
   "cell_type": "markdown",
   "metadata": {},
   "source": [
    "Realiza download do arquivo no Cloud Storage"
   ]
  },
  {
   "cell_type": "code",
   "execution_count": 3,
   "metadata": {},
   "outputs": [],
   "source": [
    "def download_file_cs(bucket_name, source_blob_name, destination_file_name):\n",
    "    \n",
    "    try:\n",
    "        \n",
    "        # Abre uma variavel com o caminho da chave do GCP\n",
    "        storage_client = storage.Client.from_service_account_json(key_path)\n",
    "\n",
    "        # Define o nome do bucket a ser conectado.\n",
    "        bucket = storage_client.bucket(bucket_name)    \n",
    "\n",
    "        # Caminho do arquivo com o seu caminho\n",
    "        blob = bucket.blob(source_blob_name)\n",
    "        \n",
    "        # Realiza o download do arquivo e \n",
    "        blob.download_to_filename(str(destination_file_name))\n",
    "        \n",
    "    except Exception as e:\n",
    "        print(e)"
   ]
  },
  {
   "cell_type": "code",
   "execution_count": 4,
   "metadata": {},
   "outputs": [],
   "source": [
    "def upload_file_cs(bucket_name, target_destination_name, source_file_name):\n",
    "\n",
    "    try:\n",
    "        \n",
    "        # Abre uma variavel com o caminho da chave do GCP\n",
    "        storage_client = storage.Client.from_service_account_json(key_path)\n",
    "        \n",
    "        bucket  = storage_client.bucket(bucket_name)\n",
    "        \n",
    "        blob = bucket.blob(target_destination_name)\n",
    "        \n",
    "        blob.upload_from_filename(source_file_name)\n",
    "        \n",
    "    except Exception as e:\n",
    "        print(e)"
   ]
  },
  {
   "cell_type": "code",
   "execution_count": 5,
   "metadata": {},
   "outputs": [],
   "source": [
    "def create_dataframe_to_csv(dataframe, target_file_ic, file_name):\n",
    "    \n",
    "    # Criar um CSV em um diretorio e com um nome especifico para ser enviado para o Cloud Storage\n",
    "    dataframe.to_csv(target_file_ic + file_name, index=False)"
   ]
  },
  {
   "cell_type": "markdown",
   "metadata": {},
   "source": [
    "Realiza a leitura do arquivo gerado do CS, realizando o formato dos campos de datas"
   ]
  },
  {
   "cell_type": "code",
   "execution_count": 6,
   "metadata": {},
   "outputs": [],
   "source": [
    "def read_file_csv(read_file):\n",
    "\n",
    "    try:\n",
    "        \n",
    "        # Cria um dataframe para ler e registrar os dados do arquivo. delimitado por \";\".\n",
    "        df = pd.read_csv(read_file, encoding='ANSI',  delimiter=',')\n",
    "        \n",
    "        # Renomeia os nomes das colunas, formatando para um novo padrão.\n",
    "        #df.rename(columns={\"id_src\" : \"id\" , \"Cliente_src\" : \"Cliente\" , \"Notional_src\" : \"Notional\" , \"Call_Put_src\" : \"Call_Put\" , \"Strike_src\" : \"Strike\" , \"Premio_Tesouraria_BRL_src\" : \"Premio_Tesouraria_BRL\" , \"Trade_Date_src\" : \"Trade_Date\" , \"Initial_Date_src\" : \"Initial_Date\" , \"Fixing_Date_src\" : \"Fixing_Date\" , \"Vencimento_src\" :\"Vencimento\" , \"Vencimento_Referencia_src\" : \"Vencimento_Referencia\" , \"Veiculo_Legal_src\" :\"Veiculo_Legal\" , \"Trading_Banking_src\" : \"Trading_Banking\" , \"Livro_src\" : \"Livro\" , \"Estrategia_src\" : \"Estrategia\" , \"Estrategia_Nivel_2_src\" : \"Estrategia_Nivel_2\" , \"Liquidacao_Antecipada_x_src\" : \"Liquidacao_Antecipada_x\" , \"Data_Liquidacao_src\" :\"Data_Liquidacao\" , \"Qtd_Liquid_Vcto_du_src\" : \"Qtd_Liquid_Vcto_du\" , \"Premio_Tesouraria_Liq_curva_src\" : \"Premio_Tesouraria_Liq_curva\" , \"Taxa_Desconto_src\" :\"Taxa_Desconto\" , \"ID_REGISTRO_src\" : \"ID_REGISTRO\", \"Data_proc_src\" : \"Data_Proc\" , \"Data_base_d0_src\" : \"Data_base_d0\" , \"Data_base_d1_src\" : \"Data_base_d1\" , \"Data_base_m1_src\" : \"Data_base_m1\" , \"Dia_util_d0_src\" :\"Dia_util_d0\" , \"Dia_util_d1_src\" : \"Dia_util_d1\" , \"Dia_util_m1_src\" : \"Dia_util_m1\" , \"Data_src\" : \"Data_referencia\" , \"m_trade_date_initial_dc\" : \"m_trade_date_initial_dc\" , \"m_trade_date_initial_du\" : \"m_trade_date_initial_du\" , \"m_trade_date_fixing_dc\" :\"m_trade_date_fixing_dc\" , \"m_trade_date_fixing_du\" : \"m_trade_date_fixing_du\" , \"m_trade_date_vencimento_dc\" : \"m_trade_date_vencimento_dc\" , \"m_trade_date_vencimento_du\" :\"m_trade_date_vencimento_du\" , \"m_data_base_initial_dc\" : \"m_data_base_initial_dc\" , \"m_data_base_initial_du\" : \"m_data_base_initial_du\" , \"m_data_base_fixing_dc\" :\"m_data_base_fixing_dc\" , \"m_data_base_fixing_du\" : \"m_data_base_fixing_du\" , \"m_data_base_vencimento_dc\" : \"m_data_base_vencimento_dc\" , \"m_data_base_vencimento_du\" :\"m_data_base_vencimento_du\" , \"m_taxa_pre_brl_initial_date_perc\" :\"m_taxa_pre_brl_initial_date_perc\" , \"m_taxa_pre_brl_fixing_date_perc\" : \"m_taxa_pre_brl_fixing_date_perc\" , \"m_taxa_pre_brl_vencimento_perc\" :\"m_taxa_pre_brl_vencimento_perc\" , \"m_indice_futuro\" : \"m_indice_futuro\" , \"m_vol_perc\" :\"m_vol_perc\" , \"m_premio_corrigido\" : \"m_premio_corrigido\" , \"m_preco_opcao\" : \"m_preco_opcao\", \"pl_ltd_opcao\" : \"pl_ltd_opcao\" , \"pl_daily\" : \"pl_daily\" , \"pl_month\" : \"pl_month\"}, inplace = True)\n",
    "        \n",
    "        # Formata cada um dos campos de datas abaixo.\n",
    "        df['Data_base_d0']= pd.to_datetime(df['Data_base_d0'].str.slice(0, 10), format='%m/%d/%Y')\n",
    "        df['Dia_util_d1']= pd.to_datetime(df['Dia_util_d1'].str.slice(0, 10), format='%m/%d/%Y')\n",
    "        df['Dia_util_m1']= pd.to_datetime(df['Dia_util_m1'].str.slice(0, 10), format='%m/%d/%Y')\n",
    "        df['Trade_Date']= pd.to_datetime(df['Trade_Date'].str.slice(0, 10), format='%m/%d/%Y')\n",
    "        df['Initial_Date']= pd.to_datetime(df['Initial_Date'].str.slice(0, 10), format='%m/%d/%Y')\n",
    "        df['Fixing_Date']= pd.to_datetime(df['Fixing_Date'].str.slice(0, 10), format='%m/%d/%Y')\n",
    "        df['Vencimento']= pd.to_datetime(df['Vencimento'].str.slice(0, 10), format='%m/%d/%Y')\n",
    "        df['Data_Liquidacao']= pd.to_datetime(df['Data_Liquidacao'].str.slice(0, 10), format='%m/%d/%Y')\n",
    "\n",
    "\n",
    "        return df\n",
    "\n",
    "    except Exception as e:\n",
    "        \n",
    "        print(e)"
   ]
  },
  {
   "cell_type": "markdown",
   "metadata": {},
   "source": [
    "Abre conexão com o BQ e cria o dataframe com a consulta com consulta de SELECT"
   ]
  },
  {
   "cell_type": "code",
   "execution_count": 7,
   "metadata": {},
   "outputs": [],
   "source": [
    "def open_cnx_bq(sql):\n",
    "    try:\n",
    "        \n",
    "        # Habilita a credencial no GCP com o Chave e o caminho da plataforma.\n",
    "        credentials = service_account.Credentials.from_service_account_file(\n",
    "            key_path,\n",
    "            scopes=[\"https://www.googleapis.com/auth/cloud-platform\"],\n",
    "        )\n",
    "\n",
    "        # Client de acesso ao BQ, com as credenciais e o projeto. Abre a conexão com o BQ.\n",
    "        client = bigquery.Client(\n",
    "            credentials=credentials,\n",
    "            project=credentials.project_id\n",
    "        )\n",
    "        \n",
    "        # Execução da query tendo como o retorno um dataframe com os dados.\n",
    "        rows = (\n",
    "            client.query(sql)\n",
    "            .result()\n",
    "            .to_dataframe()\n",
    "        )\n",
    "\n",
    "        df = pd.DataFrame(rows)\n",
    "        \n",
    "        # Fecha a conexão com o BQ\n",
    "        client.close()\n",
    "        \n",
    "        # Dataframe a ser retornado.\n",
    "        return df\n",
    "    \n",
    "    except Exception as e:\n",
    "        print(e)\n"
   ]
  },
  {
   "cell_type": "markdown",
   "metadata": {},
   "source": [
    "Função de treinamento da interpolação Cúbica"
   ]
  },
  {
   "cell_type": "code",
   "execution_count": 8,
   "metadata": {},
   "outputs": [],
   "source": [
    "def BASE_TREINO(df):\n",
    "\n",
    "    # Realiza uma leitura do dataframe apenas da quarta coluna em diante.\n",
    "    v_TABELA_VOL = df[df.columns[4:]].to_numpy()\n",
    "\n",
    "    # Realiza uma leitura do dataframe apenas da terceira coluna em diante.\n",
    "    x = df[df.columns[3]].to_numpy()\n",
    "    \n",
    "    y = [0.01, 0.10, 0.25, 0.37, 0.50, 0.63, 0.75, 0.90, 0.99]\n",
    "\n",
    "    # Gera uma variavel com o treinamento da interpolação cúbica.\n",
    "    f = interpolate.interp2d(y, x, v_TABELA_VOL, kind='cubic')\n",
    "\n",
    "    return f"
   ]
  },
  {
   "cell_type": "markdown",
   "metadata": {},
   "source": [
    "As Funções CAL_D1 e CALC_D2. Criado baseado em 3 funções VBA do Excel (DERIVATIVOS_OPCAO_IBOV, DERIVATIVOS_VOL_OPCAO_IBOV, DERIVATIVOS_DELTA_OPCAO_IBOV)"
   ]
  },
  {
   "cell_type": "code",
   "execution_count": 9,
   "metadata": {},
   "outputs": [],
   "source": [
    "def CALC_D1(FWD1, strike1, Vol1, T21):\n",
    "    \n",
    "    D1 = (math.log(FWD1 / strike1) + ((math.pow(Vol1, 2) / 2) * T21)) / (Vol1 * math.sqrt(T21)) # Calculo baseado nas funções VBA do Excel\n",
    "    \n",
    "    return D1"
   ]
  },
  {
   "cell_type": "code",
   "execution_count": 10,
   "metadata": {},
   "outputs": [],
   "source": [
    "def CALC_D2(FWD2, strike2, Vol2, T22):\n",
    "    \n",
    "    D2 = math.log(FWD2 / strike2) - ((math.pow(Vol2, 2) / 2) * T22) / (Vol2 * math.sqrt(T22)) # Calculo baseado nas funções VBA do Excel\n",
    "    \n",
    "    return  D2"
   ]
  },
  {
   "cell_type": "markdown",
   "metadata": {},
   "source": [
    "Replicação do código VBA do Excel - DERIVATIVOS_OPCAO_IBOV"
   ]
  },
  {
   "cell_type": "code",
   "execution_count": 11,
   "metadata": {},
   "outputs": [],
   "source": [
    "def DERIVATIVOS_OPCAO_IBOV(TIPO, FWD, strike, Vol, PRE, T):\n",
    "    \n",
    "    if T > 1:\n",
    "        \n",
    "        if TIPO == \"0\":\n",
    "\n",
    "            DOI = 0\n",
    "            \n",
    "        else:\n",
    "            \n",
    "            T2  = T/252\n",
    "            \n",
    "            r = math.log(1+PRE)\n",
    "            \n",
    "            d1 = CALC_D1(FWD, strike, Vol, T)\n",
    "    \n",
    "            d2 = CALC_D2(FWD, strike, Vol, T)\n",
    "            \n",
    "            if TIPO == \"CALL\":\n",
    "                DOI = math.exp(-r * T2) * (FWD * normal(d1) - strike * normal(d2))\n",
    "            elif TIPO == \"PUT\":\n",
    "                DOI = math.exp(-r * T2) * (FWD * normal(-d1) - strike * normal(-d2))\n",
    "            else:\n",
    "                DOI = \"ERRO\"\n",
    "        \n",
    "    else:\n",
    "        \n",
    "        DOI = abs(FWD - strike)\n",
    "\n",
    "        if (TIPO == \"CALL\" and (FWD - strike) < 0): DOI = 0\n",
    "\n",
    "        if (TIPO == \"PUT\" and (strike - FWD) < 0): DOI = 0\n",
    "\n",
    "        if (TIPO == \"0\"): DOI = 0\n",
    "        \n",
    "    return DOI  "
   ]
  },
  {
   "cell_type": "markdown",
   "metadata": {},
   "source": [
    "Replicação do código VBA do Excel - DERIVATIVOS_VOL_OPCAO_IBOV"
   ]
  },
  {
   "cell_type": "code",
   "execution_count": 12,
   "metadata": {},
   "outputs": [],
   "source": [
    "def DERIVATIVOS_VOL_OPCAO_IBOV(FWD, strike, Vol, PRE, T, treino):\n",
    "\n",
    "    if strike != 0 and T > 1:\n",
    "\n",
    "        T2 = T / 252\n",
    "        \n",
    "        #print(\"T2:\", T2)\n",
    "        \n",
    "        r = math.log(1 + PRE)\n",
    "        \n",
    "        #print(\"r:\", r)  \n",
    "          \n",
    "        VOL2 = Vol + 0.00002\n",
    "        \n",
    "        #print(\"PRIMEIRO VOL2:\", VOL2)\n",
    "        \n",
    "        i = 0\n",
    "        while abs(VOL2 - Vol) > 0.00001:\n",
    "\n",
    "            Vol = VOL2\n",
    "            \n",
    "            d1 = CALC_D1(FWD, strike, Vol, T2)\n",
    "            \n",
    "            delta = math.exp(-r * T2) * (1-scipy.stats.norm(d1, 1).cdf(0))\n",
    "            \n",
    "            # Com o Treinamento da Interpolação Cúbica realizada. E passado os dados do excel para geração final dos campos do excel\n",
    "            VOL2 = treino(delta, [T])\n",
    "\n",
    "            i = i + 1\n",
    "            if i == 1000:\n",
    "                exit()\n",
    "\n",
    "        return VOL2\n",
    "\n",
    "    return 0\n"
   ]
  },
  {
   "cell_type": "markdown",
   "metadata": {},
   "source": [
    "Replicação do código VBA do Excel - DERIVATIVOS_DELTA_OPCAO_IBOV"
   ]
  },
  {
   "cell_type": "code",
   "execution_count": 13,
   "metadata": {},
   "outputs": [],
   "source": [
    "def DERIVATIVOS_DELTA_OPCAO_IBOV(TIPO, FWD, strike, Vol, PRE, T):\n",
    "    \n",
    "    if T > 1:\n",
    "        if TIPO == 0:\n",
    "            DDOI = 0\n",
    "        \n",
    "        else:\n",
    "            \n",
    "            T2 = T / 252\n",
    "            r = math.log(1 + PRE)\n",
    "            \n",
    "            d1 = CALC_D1(FWD, strike, Vol, T)\n",
    "            d2 = CALC_D2(FWD, strike, Vol, T)\n",
    "        \n",
    "            if TIPO == \"CALL\":\n",
    "                DDOI = math.exp(-r * T2) * normal(d1)\n",
    "            elif TIPO == \"PUT\":\n",
    "                DDOI = math.exp(-r * T2) * normal(d1) - 1\n",
    "            Else: DDOI = \"ERRO\"\n",
    "\n",
    "    else:\n",
    "        DDOI = 0"
   ]
  },
  {
   "cell_type": "markdown",
   "metadata": {},
   "source": [
    "Realiza a chamada para o download do arquivo do CS"
   ]
  },
  {
   "cell_type": "code",
   "execution_count": 14,
   "metadata": {},
   "outputs": [],
   "source": [
    "download_file_cs(v_bucket_name, v_source_file_ic + v_source_file_name, v_target_file_ic + v_target_file_name)"
   ]
  },
  {
   "cell_type": "markdown",
   "metadata": {},
   "source": [
    "#Leitura do arquivo baixado do Cloud Storage que foi gerado pelo Informatica Cloud Data Integration(CDI): Pasta: abc_tesouraria_riscos_e_resultados\\Fase2 MAPA: map_stg_tb_ibovopt_vanilla_1"
   ]
  },
  {
   "cell_type": "code",
   "execution_count": 15,
   "metadata": {},
   "outputs": [],
   "source": [
    "df_File = read_file_csv(v_target_file_ic + v_target_file_name)"
   ]
  },
  {
   "cell_type": "markdown",
   "metadata": {},
   "source": [
    "Abre a conexão com o BQ para realizar o select e gerar o Dataframe da tabela STG_TB_VOL_IND"
   ]
  },
  {
   "cell_type": "code",
   "execution_count": 16,
   "metadata": {},
   "outputs": [],
   "source": [
    "df_DVOI = open_cnx_bq(v_QUERY_STG_TB_VOL_IND)"
   ]
  },
  {
   "cell_type": "markdown",
   "metadata": {},
   "source": [
    "Realiza a chamada do treino dos dados"
   ]
  },
  {
   "cell_type": "code",
   "execution_count": 17,
   "metadata": {},
   "outputs": [],
   "source": [
    "v_BASE_TREINO_DVOI = BASE_TREINO(df_DVOI)"
   ]
  },
  {
   "cell_type": "markdown",
   "metadata": {},
   "source": [
    "Calculo da média da coluna Delta_50, da tabela abc-pipeline-dev-terceiros.DS_RISCOS_RESULTADOS.STG_TB_VOL_IND "
   ]
  },
  {
   "cell_type": "code",
   "execution_count": 18,
   "metadata": {},
   "outputs": [],
   "source": [
    "v_media_delta_50 = np.mean(df_DVOI[\"Delta_50\"])"
   ]
  },
  {
   "cell_type": "markdown",
   "metadata": {},
   "source": [
    "Loop para que possa ser gerada as informações das colunas a serem calculadas."
   ]
  },
  {
   "cell_type": "code",
   "execution_count": 51,
   "metadata": {},
   "outputs": [],
   "source": [
    "\n",
    "for i in range(len(df_File)):\n",
    "\n",
    "    #VARIAVEIS USADAS EM CONDIÇÕES: (IF)\n",
    "    v_Data_base_d0 = datetime.strptime(df_File[\"Dia_util_d0\"][i], '%m/%d/%Y %H:%M:%S.%f')\n",
    "    v_Data_base_d1 = df_File[\"Dia_util_d1\"][i]\n",
    "    v_Data_base_m1 = df_File[\"Dia_util_m1\"][i]\n",
    "    v_Fixing_Date = df_File[\"Fixing_Date\"][i]\n",
    "    v_Trade_Date = df_File[\"Trade_Date\"][i]\n",
    "    v_Liquidacao_Antecipada_x = df_File[\"Liquidacao_Antecipada_x\"][i]\n",
    "    v_Data_Liquidacao = df_File[\"Data_Liquidacao\"][i]\n",
    "    \n",
    "    #VARIAVEIS USADAS COMO PARAMETROS DAS FUNÇÕES: DERIVATIVOS_OPCAO_IBOV e DERIVATIVOS_VOL_OPCAO_IBOV\n",
    "    v_Call_Put = df_File[\"Call_Put\"][i]\n",
    "    v_Premio_Tesouraria_Liq_curva = df_File[\"Premio_Tesouraria_Liq_curva\"][i]\n",
    "    v_m_indice_futuro = df_File[\"Strike\"][i]\n",
    "    v_m_data_base_vencimento_du = df_File[\"m_taxa_pre_brl_vencimento_perc\"][i]\n",
    "    v_T = df_File[\"m_data_base_vencimento_du\"][i]\n",
    "    v_FWD = df_File[\"m_indice_futuro\"][i]\n",
    "    v_strike = df_File[\"Strike\"][i]\n",
    "    v_Vol = v_media_delta_50\n",
    "    v_PRE = df_File[\"m_taxa_pre_brl_vencimento_perc\"][i]\n",
    "\n",
    "    #Inicio do calculo do campo:  m_vol_perc    \n",
    "    if (v_Fixing_Date  is None or v_Data_Liquidacao is None ):\n",
    "        0\n",
    "    else:\n",
    "        if (v_Call_Put is None or v_Data_base_d0 >= v_Fixing_Date and (v_Liquidacao_Antecipada_x == \"x\" and v_Data_Liquidacao < v_Data_base_d0)):\n",
    "            v_m_vol_perc = 0\n",
    "        else:\n",
    "            v_m_vol_perc = DERIVATIVOS_VOL_OPCAO_IBOV(v_FWD, v_strike, v_Vol, v_PRE, v_T, v_BASE_TREINO_DVOI) \n",
    "    \n",
    "    v_result_m_vol_perc = v_m_vol_perc\n",
    "    #Fim do calculo do campo:  m_vol_perc \n",
    "     \n",
    "    #Inicio do calculo do campo:  m_preco_opcao\n",
    "    if ( v_Trade_Date is None ):\n",
    "        0\n",
    "    else:\n",
    "        if ( v_Data_base_d0 < v_Trade_Date):\n",
    "            v_m_preco_opcao = 0\n",
    "        else:\n",
    "            if (v_Liquidacao_Antecipada_x == \"x\" and v_Data_Liquidacao <= v_Data_base_d0):\n",
    "                v_m_preco_opcao = v_Premio_Tesouraria_Liq_curva\n",
    "            else:\n",
    "                v_m_preco_opcao = DERIVATIVOS_OPCAO_IBOV(v_Call_Put, v_m_indice_futuro, v_strike, v_m_vol_perc, 0, v_m_data_base_vencimento_du)\n",
    "    #Fim do calculo do campo:  m_preco_opcao \n",
    "    \n",
    "    # Registra no Dataframe o retorno do calculo realizado pelas funções.\n",
    "    df_File.loc[[i], \"m_vol_perc\"] = v_m_vol_perc\n",
    "    df_File.loc[[i], \"m_preco_opcao\"] = v_m_preco_opcao\n",
    "    df_File.loc[[i], \"pl_ltd_opcao\"] = df_File.loc[[i], \"Notional\"] / df_File.loc[[i], \"Strike\"] * (v_m_preco_opcao - df_File.loc[[i], \"m_premio_corrigido\"])\n",
    "    df_File.loc[[i], \"pl_daily\"] = df_File.loc[[i], \"pl_ltd_opcao\"] - df_File.loc[[i], \"d1_pl_ltd_opcao\"]\n",
    "    df_File.loc[[i], \"pl_month\"] = df_File.loc[[i], \"pl_ltd_opcao\"] - df_File.loc[[i], \"m1_pl_ltd_opcao\"]\n",
    "\n",
    "    # Inicio do calculo do campo: d0_pl_exposure_ibov\n",
    "    if (df_File[\"Data_Liquidacao\"][i] is None):\n",
    "        0\n",
    "    else:\n",
    "        if (df_File[\"Liquidacao_Antecipada_x\"][i] == \"x\" and df_File[\"Data_Liquidacao\"][i] <= v_Data_base_d0):\n",
    "            df_File.loc[[i], \"d0_pl_exposure_ibov\"] =  0\n",
    "        else:\n",
    "            df_File.loc[[i], \"d0_pl_exposure_ibov\"] =  df_File[\"Notional\"][i] * df_File[\"d0_delta_perc\"][i]\n",
    "    # Fim do calculo do campo: d0_pl_exposure_ibov\n",
    "    \n",
    "    \n",
    "    # Inicio do calculo do campo: d0_pL_Theta\n",
    "    \n",
    "    if (df_File[\"m_data_base_vencimento_du\"][i] is None): \n",
    "        v_m_data_base_vencimento_du = None\n",
    "    else: \n",
    "        v_m_data_base_vencimento_du = df_File[\"m_data_base_vencimento_du\"][i] - 1\n",
    "    \n",
    "    if (df_File[\"Trade_Date\"][i] is None or df_File[\"Vencimento\"][i] is None or df_File[\"Data_Liquidacao\"][i] is None or v_m_data_base_vencimento_du is None ):\n",
    "        df_File.loc[[i], \"d0_pL_Theta\"] = 0\n",
    "    else:\n",
    "        \n",
    "        if (v_Data_base_d0 < df_File[\"Trade_Date\"][i]):\n",
    "            df_File.loc[[i], \"d0_pL_Theta\"] = 0\n",
    "        else:\n",
    "            if(df_File[\"Liquidacao_Antecipada_x\"][i] == \"x\" and df_File[\"Data_Liquidacao\"][i]  <= v_Data_base_d0 ):\n",
    "                df_File.loc[[i], \"d0_pL_Theta\"] = 0\n",
    "            else:\n",
    "                df_File.loc[[i], \"d0_pL_Theta\"] = (DERIVATIVOS_DELTA_OPCAO_IBOV(df_File[\"Call_Put\"][i],df_File[\"m_indice_futuro\"][i],df_File[\"Strike\"][i],df_File[\"m_vol_perc\"][i],0,v_m_data_base_vencimento_du)-df_File[\"m_preco_opcao\"][i])*df_File[\"Notional\"][i]/df_File[\"Strike\"][i]   \n",
    "    # Fim do calculo do campo: d0_pL_Theta\n",
    "\n",
    "    # Inicio do calculo do campo: d0_pL_vega_um_perc_IBOV\n",
    "    if (v_Data_base_d0 < df_File[\"Trade_Date\"][i]):\n",
    "        df_File.loc[[i], \"d0_pL_vega_um_perc_IBOV\"] = 0\n",
    "    else:\n",
    "        if (df_File[\"Liquidacao_Antecipada_x\"][i] == \"x\" and df_File[\"Data_Liquidacao\"][i] <= v_Data_base_d0):\n",
    "            df_File.loc[[i], \"d0_pL_vega_um_perc_IBOV\"] = 0\n",
    "        else:\n",
    "            df_File.loc[[i], \"d0_pL_vega_um_perc_IBOV\"] = (DERIVATIVOS_OPCAO_IBOV(df_File[\"Call_Put\"][i],df_File[\"m_indice_futuro\"][i],df_File[\"Strike\"][i],df_File[\"m_vol_perc\"][i] + 0.01,0,df_File[\"m_data_base_vencimento_du\"][i]) - DERIVATIVOS_OPCAO_IBOV(df_File[\"Call_Put\"][i],df_File[\"m_indice_futuro\"][i],df_File[\"Strike\"][i],df_File[\"m_vol_perc\"][i] - 0.01,0,df_File[\"m_data_base_vencimento_du\"][i])) / 2 * df_File[\"Notional\"][i] / df_File[\"Strike\"][i]\n",
    "    # Fim do calculo do campo: d0_pL_vega_um_perc_IBOV\n",
    "    \n",
    "    # Inicio do calculo do campo: d0_pL_gamma_um_perc_IBOV\n",
    "    \n",
    "    # Possui a mesma regra do campo d0_pL_gamma_um_perc_IBOV\n",
    "    df_File.loc[[i], \"d0_pL_gamma_um_perc_IBOV\"] = df_File[\"d0_pL_vega_um_perc_IBOV\"][i]\n",
    "    \n",
    "    # Fim do calculo do campo: d0_pL_gamma_um_perc_IBOV    \n",
    "\n",
    "\n",
    "\n",
    "    \n",
    "    \n",
    "\n",
    "\n",
    "\n"
   ]
  },
  {
   "cell_type": "markdown",
   "metadata": {},
   "source": [
    "Gerar o arquivo que será enviado para o Cloud Storage."
   ]
  },
  {
   "cell_type": "code",
   "execution_count": null,
   "metadata": {},
   "outputs": [],
   "source": [
    "create_dataframe_to_csv(df_File, v_target_file_ic, v_upload_file_name)"
   ]
  },
  {
   "cell_type": "markdown",
   "metadata": {},
   "source": [
    "Faz o upload dos dados para o CS."
   ]
  },
  {
   "cell_type": "code",
   "execution_count": null,
   "metadata": {},
   "outputs": [],
   "source": [
    "#upload_file_cs(v_bucket_name, v_source_file_ic + v_upload_file_name, v_target_file_ic + v_upload_file_name )"
   ]
  }
 ],
 "metadata": {
  "interpreter": {
   "hash": "f8c84769f387f5e04656f52f938f065f6e68dfe8e59d80d64186a3925e10c6e1"
  },
  "kernelspec": {
   "display_name": "Python 3.9.7 64-bit ('base': conda)",
   "language": "python",
   "name": "python3"
  },
  "language_info": {
   "codemirror_mode": {
    "name": "ipython",
    "version": 3
   },
   "file_extension": ".py",
   "mimetype": "text/x-python",
   "name": "python",
   "nbconvert_exporter": "python",
   "pygments_lexer": "ipython3",
   "version": "3.9.7"
  },
  "orig_nbformat": 4
 },
 "nbformat": 4,
 "nbformat_minor": 2
}
